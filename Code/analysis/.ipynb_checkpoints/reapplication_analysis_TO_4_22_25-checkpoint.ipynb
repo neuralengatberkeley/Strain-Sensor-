{
 "cells": [
  {
   "cell_type": "code",
   "execution_count": 1,
   "id": "0e476cd3-a062-45ad-ad1e-e222678b80a2",
   "metadata": {},
   "outputs": [],
   "source": [
    "%load_ext autoreload\n",
    "%autoreload 2"
   ]
  },
  {
   "cell_type": "code",
   "execution_count": 3,
   "id": "c7f68666-d468-4b1d-8639-60051aad3578",
   "metadata": {},
   "outputs": [
    {
     "ename": "ModuleNotFoundError",
     "evalue": "No module named 'analysis'",
     "output_type": "error",
     "traceback": [
      "\u001b[1;31m---------------------------------------------------------------------------\u001b[0m",
      "\u001b[1;31mModuleNotFoundError\u001b[0m                       Traceback (most recent call last)",
      "Cell \u001b[1;32mIn[3], line 1\u001b[0m\n\u001b[1;32m----> 1\u001b[0m \u001b[38;5;28;01mfrom\u001b[39;00m \u001b[38;5;21;01manalysis\u001b[39;00m \u001b[38;5;28;01mimport\u001b[39;00m bender_class\n\u001b[0;32m      2\u001b[0m \u001b[38;5;28;01mfrom\u001b[39;00m \u001b[38;5;21;01mconfig\u001b[39;00m \u001b[38;5;28;01mimport\u001b[39;00m path_to_repository\n\u001b[0;32m      3\u001b[0m \u001b[38;5;28;01mimport\u001b[39;00m \u001b[38;5;21;01mpandas\u001b[39;00m \u001b[38;5;28;01mas\u001b[39;00m \u001b[38;5;21;01mpd\u001b[39;00m\n",
      "\u001b[1;31mModuleNotFoundError\u001b[0m: No module named 'analysis'"
     ]
    }
   ],
   "source": [
    "from analysis import bender_class\n",
    "from config import path_to_repository\n",
    "import pandas as pd\n",
    "import os\n",
    "import numpy as np\n",
    "import matplotlib.pyplot as plt\n",
    "from sklearn.model_selection import train_test_split"
   ]
  },
  {
   "cell_type": "code",
   "execution_count": null,
   "id": "a060d28d-514d-44d2-b90c-770968999ce1",
   "metadata": {},
   "outputs": [],
   "source": [
    "import seaborn\n",
    "seaborn.set(font='Arial',context='talk',font_scale=1.0, style='white')"
   ]
  },
  {
   "cell_type": "code",
   "execution_count": null,
   "id": "8dd8633b-4143-411a-92f3-1493fb336496",
   "metadata": {},
   "outputs": [],
   "source": [
    "# varying abs channel length\n",
    "\n",
    "degree = 2\n",
    "\n",
    "# 1.5 in samples\n",
    "DS25 = os.path.join(path_to_repository , \"CSV Data/11_27_2024/1_53_bubble/Bending_data_abs_1p53_11_27_24_0deg_reapply_2.csv\")\n",
    "\n",
    "# 1.7 in samples \n",
    "DS7_datafiles = os.path.join(path_to_repository , \"CSV Data/2_4_2025/second test/Bending_data_abs_1p7_abs_1p7_2nd_reapply_2_4_25.csv\")\n",
    "DS8_datafiles = os.path.join(path_to_repository , \"CSV Data/4_11_25/1.787_static_vs2_v1_4_11_25.csv\")\n",
    "DS13_datafiles = os.path.join(path_to_repository , \"CSV Data/3_18_25/Bending_data_abs_1p732_0deg_retest_v3_3_18_25.csv\")\n",
    "DS14_datafiles = os.path.join(path_to_repository , \"CSV Data/3_20_25/Bending_data_abs_1p758_retest_v8_3_20_25.csv\")\n",
    "\n",
    "\n",
    "# 1.8 in samples\n",
    "DS3_datafiles = os.path.join(path_to_repository , \"CSV Data/4_15_25/1.85_static_v2_4_15_25.csv\")\n",
    "DS4_datafiles = os.path.join(path_to_repository , \"CSV Data/4_11_25/1.86_static_vs3_v1_4_11_25.csv\")\n",
    "DS6_datafiles = os.path.join(path_to_repository , \"CSV Data/12_9_2024/fourth/Bending_data_abs_1p897_s4_12_9_24.csv\")\n",
    "\n",
    "# 1.987 in samples\n",
    "DS11_datafiles = os.path.join(path_to_repository , \"CSV Data/4_15_25/1.98_static_v2_4_15_25.csv\")\n",
    "\n",
    "# 2.3 in samples\n",
    "DS1_datafiles = os.path.join(path_to_repository , \"CSV Data/4_17_25/2.24_static_v1_4_17_25.csv\")\n",
    "DS2_datafiles = os.path.join(path_to_repository , \"CSV Data/4_15_25/2.2_static_v3_4_15_25.csv\")\n",
    "\n",
    "# Added these files to PK_data_accuracy_check tab in data_25_01_14.xlsx file \n",
    "DS_all = [[DS25], \n",
    "          [DS7_datafiles, DS8_datafiles, DS13_datafiles, DS14_datafiles],\n",
    "          [DS3_datafiles, DS4_datafiles, DS6_datafiles],\n",
    "          [DS11_datafiles],\n",
    "          [DS1_datafiles, DS2_datafiles] \n",
    "         ]\n",
    "\n",
    "bar_labels = [\"1.5 in\", \"1.7 in\", \"1.8 in\", \"2.0 in\", \"2.3 in\"]\n",
    "bar_colors = [\"b\"]*len(bar_labels)\n",
    "ma_100_list = []\n",
    "\n",
    "# For each dataset -- show training and testing on individual datasets\n",
    "for i_g, group in enumerate(DS_all):\n",
    "    \n",
    "    ma_100_list_group = []; \n",
    "    for i_d, datafiles in enumerate(group):\n",
    "        g = bender_class()\n",
    "        g.load_data(datafiles)\n",
    "        g.normalize_adc_over_R0()\n",
    "        g.train_model_test_accuracy(degree=degree)\n",
    "        min_angle_100, all_min_angle_100 = g.get_min_accuracy_100()\n",
    "        ma_100_list_group.append(all_min_angle_100)\n",
    "    ma_100_list.append(ma_100_list_group)\n",
    "        \n",
    "g.plot_bar_chart(ma_100_list, bar_labels, title=\"Min Angle for 100% Accuracy\", ylabel=\"Min Angle (deg)\", colors=bar_colors,\n",
    "                ylim=(0, 15))"
   ]
  },
  {
   "cell_type": "code",
   "execution_count": null,
   "id": "6a17bbd7-dd2c-4be7-90c3-bb99a25cdb87",
   "metadata": {},
   "outputs": [],
   "source": [
    "#2.24 reapply sample\n",
    "# reapplied with velcro\n",
    "DS16_datafiles = os.path.join(path_to_repository , \"CSV Data/4_17_25/2.24_reapplication_v2_4_17_25.csv\")\n",
    "DS17_datafiles = os.path.join(path_to_repository , \"CSV Data/4_17_25/2.24_reapplication_v3_4_17_25.csv\")\n",
    "DS18_datafiles = os.path.join(path_to_repository , \"CSV Data/4_17_25/2.24_reapplication_v4_4_17_25.csv\")\n",
    "\n",
    "\n",
    "\n"
   ]
  },
  {
   "cell_type": "code",
   "execution_count": null,
   "id": "6e88209e-948b-4368-adcc-67de33ea55bc",
   "metadata": {},
   "outputs": [],
   "source": []
  },
  {
   "cell_type": "code",
   "execution_count": null,
   "id": "e0338aab-a4cc-4bf6-ac95-bb7f7772255b",
   "metadata": {},
   "outputs": [],
   "source": []
  }
 ],
 "metadata": {
  "kernelspec": {
   "display_name": "Python [conda env:base] *",
   "language": "python",
   "name": "conda-base-py"
  },
  "language_info": {
   "codemirror_mode": {
    "name": "ipython",
    "version": 3
   },
   "file_extension": ".py",
   "mimetype": "text/x-python",
   "name": "python",
   "nbconvert_exporter": "python",
   "pygments_lexer": "ipython3",
   "version": "3.12.7"
  }
 },
 "nbformat": 4,
 "nbformat_minor": 5
}
