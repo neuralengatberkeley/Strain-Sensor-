{
 "cells": [
  {
   "cell_type": "code",
   "execution_count": 5,
   "id": "58e16750-729c-4b55-b485-fd4d804d82a2",
   "metadata": {},
   "outputs": [],
   "source": [
    "%load_ext autoreload\n",
    "%autoreload 2"
   ]
  },
  {
   "cell_type": "code",
   "execution_count": 7,
   "id": "b0d0f745-885d-4636-85ce-ff165c14226b",
   "metadata": {},
   "outputs": [],
   "source": [
    "from config import path_to_repository\n",
    "import pandas as pd\n",
    "import os\n",
    "import numpy as np\n",
    "import matplotlib.pyplot as plt"
   ]
  },
  {
   "cell_type": "code",
   "execution_count": 9,
   "id": "a6be5cc8-a0c9-4fc1-8768-2aa05c3400f7",
   "metadata": {},
   "outputs": [],
   "source": [
    "renc = os.path.join(path_to_repository , \"CSV Data/8_12_25/Phil 8_12_25/data_rotenc_2025_08_07_09_21_23.csv\")\n",
    "cam = os.path.join(path_to_repository , \"CSV Data/8_12_25/Phil 8_12_25/2025_08_07_09_21_23_DLC_3D.csv\")\n"
   ]
  },
  {
   "cell_type": "code",
   "execution_count": null,
   "id": "a5ce10a7-b824-4792-8ea5-e0cdc691bf63",
   "metadata": {},
   "outputs": [],
   "source": []
  }
 ],
 "metadata": {
  "kernelspec": {
   "display_name": "Python [conda env:base] *",
   "language": "python",
   "name": "conda-base-py"
  },
  "language_info": {
   "codemirror_mode": {
    "name": "ipython",
    "version": 3
   },
   "file_extension": ".py",
   "mimetype": "text/x-python",
   "name": "python",
   "nbconvert_exporter": "python",
   "pygments_lexer": "ipython3",
   "version": "3.12.7"
  }
 },
 "nbformat": 4,
 "nbformat_minor": 5
}
