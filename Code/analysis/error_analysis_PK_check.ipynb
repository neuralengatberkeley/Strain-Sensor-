{
 "cells": [
  {
   "cell_type": "markdown",
   "metadata": {},
   "source": [
    "Checking Fig1 plots "
   ]
  },
  {
   "cell_type": "code",
   "execution_count": 1,
   "metadata": {},
   "outputs": [],
   "source": [
    "%load_ext autoreload\n",
    "%autoreload 2"
   ]
  },
  {
   "cell_type": "code",
   "execution_count": 3,
   "metadata": {},
   "outputs": [],
   "source": [
    "from analysis import bender_class\n",
    "from config import path_to_repository\n",
    "import pandas as pd\n",
    "import os\n",
    "import numpy as np\n",
    "import matplotlib.pyplot as plt"
   ]
  },
  {
   "cell_type": "markdown",
   "metadata": {},
   "source": [
    "Fig 1E -- min angle for 100% accuracy "
   ]
  },
  {
   "cell_type": "code",
   "execution_count": null,
   "metadata": {},
   "outputs": [],
   "source": [
    "# varying abs channel length\n",
    "\n",
    "# 1.5 in samples\n",
    "DS25 = os.path.join(path_to_repository , \"CSV Data/11_27_24/1_53_bubble/Bending_data_abs_1p53_11_27_24_0deg_reapply_2.csv\")\n",
    "\n",
    "# 1.7 in samples -- thesse are two differnet sameples (1p7 and 1p758 and 1p685 and 1p732)\n",
    "DS7_datafiles = os.path.join(path_to_repository , \"CSV Data/2_4_2025/first test/Bending_data_abs_1p7_1st_reapply_2_4_25.csv\")\n",
    "DS8_datafiles = os.path.join(path_to_repository , \"CSV Data/2_6_2025/first test/Bending_data_abs_1p7_1st_reapply_2_6_25.csv\")\n",
    "DS9_datafiles = os.path.join(path_to_repository , \"CSV Data/2_11_2025/0 deg/Bending_data_abs_1p685_0deg_2_11_25.csv\")\n",
    "DS10_datafiles = os.path.join(path_to_repository , \"CSV Data/2_11_2025/0 deg/1p732/Bending_data_abs_1p732_0deg_2_11_25.csv\")\n",
    "\n",
    "# 1.8 in samples\n",
    "DS3_datafiles = os.path.join(path_to_repository , \"CSV Data/12_9_24/first/Bending_data_abs_1p822_s1_12_9_24.csv\")\n",
    "DS4_datafiles = os.path.join(path_to_repository , \"CSV Data/12_9_24/second/Bending_data_abs_1p86_s2real_12_9_24.csv\")\n",
    "DS5_datafiles = os.path.join(path_to_repository , \"CSV Data/12_9_24/third/Bending_data_abs_1p86_s3_12_9_24.csv\")\n",
    "DS6_datafiles = os.path.join(path_to_repository , \"CSV Data/12_9_24/fourth/Bending_data_abs_1p897_s4_12_9_24.csv\")\n",
    "\n",
    "# 1.987 in samples\n",
    "DS11_datafiles = os.path.join(path_to_repository , \"CSV Data/12_18_24/misalignment/0 deg/Bending_data_abs_1p93_0deg_12_18_24.csv\")\n",
    "\n",
    "# 2.3 in samples\n",
    "DS1_datafiles = os.path.join(path_to_repository , \"CSV Data/11_25_24/reapply/2p/Bending_data_abs_2p3_11_25_24_0deg_reapply_1.csv\")\n",
    "DS2_datafiles = os.path.join(path_to_repository , \"CSV Data/11_25_24/reapply/2p31/Bending_data_abs_2p31_11_25_24_0deg_reapply_1.csv\")\n",
    "\n",
    "\n",
    "# Didn't include 8in channel because it wasnt' green on the spreadsheet \n",
    "# sample abs#_100 -> 8 inch channel length\n",
    "# DS4_datafiles = os.path.join(path_to_repository , \"CSV Data/10_25_2024/voltage divider circuit/*.csv\")\n",
    "\n",
    "# Added these files to PK_data_accuracy_check tab in data_25_01_14.xlsx file \n",
    "DS_all = [[DS25], \n",
    "          [DS7_datafiles, DS8_datafiles, DS9_datafiles, DS10_datafiles],\n",
    "          [DS3_datafiles, DS4_datafiles, DS5_datafiles, DS6_datafiles],\n",
    "          [DS11_datafiles],\n",
    "          [DS1_datafiles, DS2_datafiles]]\n",
    "\n",
    "bar_labels = [\"2.3 in samples\", \"1.8 in samples\", \"1.7 in samples\"]\n",
    "\n",
    "ma_100_list = []\n",
    "\n",
    "# For each dataset -- show training and testing on individual datasets\n",
    "for i_g, group in enumerate(DS_all):\n",
    "    ma_100_list_group = []; \n",
    "    for i_d, datafiles in enumerate(group):\n",
    "        g = bender_class()\n",
    "        g.load_data(datafiles)\n",
    "        g.normalize_adc_over_R0()\n",
    "        g.train_model_test_accuracy()\n",
    "        print(g.accuracy)\n",
    "        min_angle_100, min_acc = g.get_min_accuracy_100()\n",
    "        ma_100_list_group.append(min_angle_100)\n",
    "        \n",
    "bar_labels = [\"2.3 in samples\", \"1.8 in samples\", \"1.7 in samples\"]\n",
    "\n",
    "g.plot_bar_chart(ma_100_list, bar_labels, title=\"Min Angle for 100% Accuracy\", ylabel=\"Min Angle (deg)\", colors=[\"b\"]*4,\n",
    "                ylim=(0, 15))"
   ]
  },
  {
   "cell_type": "markdown",
   "metadata": {},
   "source": []
  }
 ],
 "metadata": {
  "kernelspec": {
   "display_name": "mountainlab",
   "language": "python",
   "name": "python3"
  },
  "language_info": {
   "codemirror_mode": {
    "name": "ipython",
    "version": 3
   },
   "file_extension": ".py",
   "mimetype": "text/x-python",
   "name": "python",
   "nbconvert_exporter": "python",
   "pygments_lexer": "ipython3",
   "version": "3.6.15"
  }
 },
 "nbformat": 4,
 "nbformat_minor": 2
}
