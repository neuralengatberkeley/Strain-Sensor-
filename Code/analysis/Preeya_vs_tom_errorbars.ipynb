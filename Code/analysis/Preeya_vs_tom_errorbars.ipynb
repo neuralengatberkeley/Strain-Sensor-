{
 "cells": [
  {
   "cell_type": "markdown",
   "id": "f9901d07",
   "metadata": {},
   "source": [
    "### Comparing Preeya and Tom Method for Accuracy Plots"
   ]
  },
  {
   "cell_type": "code",
   "execution_count": 2,
   "id": "836100d1",
   "metadata": {},
   "outputs": [],
   "source": [
    "from analysis import bender_class, train_test_split\n",
    "from config import path_to_repository\n",
    "import pandas as pd\n",
    "import os\n",
    "import numpy as np"
   ]
  },
  {
   "cell_type": "markdown",
   "id": "c44b00a0",
   "metadata": {},
   "source": [
    "# Tom Method\n",
    "\n",
    "See cell block 53 in jupyter notebook \"analysis_tom_initial\" (Tom's Old analysis notebook).\n",
    "\n",
    "It appears that in train_test_split, shuffle is automatically set to True if not included:  https://scikit-learn.org/dev/modules/generated/sklearn.model_selection.train_test_split.html\n",
    "        \n",
    "Given three accuracy plots, calculate average and std of accuracy across three plots for each angle.  This is how a \"master\" accuracy plot is created with error bars.  Individual accuracy plot is calculated with the following code using old bender_class methods:"
   ]
  },
  {
   "cell_type": "code",
   "execution_count": null,
   "id": "f78960c6",
   "metadata": {},
   "outputs": [],
   "source": [
    "import numpy as np\n",
    "import matplotlib.pyplot as plt  # To visualize\n",
    "\n",
    "g = bender_class(data=pd.DataFrame())\n",
    "#path contains 4 csv files\n",
    "path = \"C:/Users/toppenheim/Desktop/UCSF/Preeya UCB/Strain-Sensor-/CSV Data/11_21_2024/1p5/*.csv\"\n",
    "g.read_data_2(path) # normalize from 0 to 1, not over R0\n",
    "\n",
    "# Initialize parameters for accuracy calculation\n",
    "degree_of_accuracies = list(range(15, 0, -1))  # From 10 to 1\n",
    "all_accuracies_first = []\n",
    "\n",
    "# Calculate average accuracy for the first dataset using train_test\n",
    "for degree in degree_of_accuracies:\n",
    "    accuracies = []\n",
    "    for _ in range(100):  # Shuffle automatically set to true in train_test_split -> https://scikit-learn.org/dev/modules/generated/sklearn.model_selection.train_test_split.html\n",
    "        accuracy = g.train_test(deg_accuracy=degree)  # Use train_test for the first dataset\n",
    "        accuracies.append(accuracy)\n",
    "    all_accuracies_first.append(np.mean(accuracies)) # not calculating error bar here but could have\n",
    "    \n",
    "# Plot all accuracies on the same plot\n",
    "plt.figure(figsize=(10, 5))\n",
    "plt.plot(degree_of_accuracies, all_accuracies_first, marker='o', label='Original Model', color='blue')\n",
    "\n",
    "# Customize plot\n",
    "plt.title('Model Accuracy Across Different Datasets')\n",
    "plt.xlabel('Degree of Accuracy (degrees)')\n",
    "plt.ylabel('Average Accuracy Across 100 Iterations (%)')\n",
    "plt.xticks(degree_of_accuracies)  # Set x-ticks to correspond to degrees\n",
    "plt.legend()  # Add legend to differentiate datasets\n",
    "plt.grid()"
   ]
  },
  {
   "cell_type": "markdown",
   "id": "db3af851",
   "metadata": {},
   "source": [
    "### Reapplication Accuracies:  Tom's old method to train model on one dataset and apply to others\n",
    "\n",
    "from old bender_class predict_new_data method: see cell block 53 again in notebook analysis_tom_initial (old analysis)\n",
    "\n",
    "use model developed in first dataset and apply it to next dataset and determine how well it predicts accuracy for each angle from 1 to 15 deg.   Run that test 100 times per angle and then average the accuracies for each angle. So each angle will have one accuracy number.  \n",
    "\n",
    "Given three different datasets, the reapplication accuracy plots may look substantially different, and hence the error bars are larger as the angle gets smaller"
   ]
  },
  {
   "cell_type": "markdown",
   "id": "c6d00d3d",
   "metadata": {},
   "source": [
    "### This is how Tom is producing error bars for master plot in notebook \"all_data_accuracy\"\n",
    "\n",
    "all other error bars in all other notebooks produced using updated bender_class method:  plot_accuracy"
   ]
  },
  {
   "cell_type": "markdown",
   "id": "eb1ddf01",
   "metadata": {},
   "source": [
    "# Preeya Method\n",
    "\n",
    "Individual accuract plot determined using updated bender_class methods:  train_model_test_accuracy, accuracy_by_angle, and plot_accuracy\n",
    "\n",
    "Firs split data into 80% train and and 10% test.  Test accuracy for each angle (1-15 deg).  Store this accuracy in a list. Then shuffle data into another 80% train and 10% test and repeat above.  Do this niter times.  An average and std can be obtained for each angle from the niter times of running train_model_test_accuracy and accuracy_by_angle methods.  "
   ]
  },
  {
   "cell_type": "markdown",
   "id": "e496f4ca",
   "metadata": {},
   "source": [
    "### Reapplication Accuracies:  Obtainng Accuracy plot from previously train model on different dataset"
   ]
  },
  {
   "cell_type": "code",
   "execution_count": null,
   "id": "84090f9d",
   "metadata": {},
   "outputs": [],
   "source": [
    "# For each dataset -- show training and testing on individual datasets\n",
    "for i_d, datafiles in enumerate(DS_all):\n",
    "    g = bender_class()\n",
    "    g.load_data(datafiles)\n",
    "    g.normalize_adc_bw_01()\n",
    "    g.train_model_test_accuracy()\n",
    "    g.plot_accuracy(title='DS %d'%i_d)\n",
    "\n",
    "    ## Now test data on other datasets\n",
    "    ixs = [0, 1, 2]\n",
    "    ixs.remove(i_d)\n",
    "    \n",
    "    ## Iterate over other datasets \n",
    "    g2 = bender_class()\n",
    "    g2.load_data(DS_all[ixs[0]])\n",
    "    g2.normalize_adc_bw_01()\n",
    "    g3 = bender_class()\n",
    "    g3.load_data(DS_all[ixs[1]])\n",
    "    g3.normalize_adc_bw_01()\n",
    "   \n",
    "\n",
    "    df_combined = pd.concat([g2.data, g3.data], ignore_index=True)\n",
    "\n",
    "    acc = []; \n",
    "    for i in range(10): \n",
    "        _, dftest = train_test_split(df_combined, test_size=0.1, shuffle=True)\n",
    "        acc.append(g.predict_new_data(dftest))\n",
    "    acc = np.vstack((acc))\n",
    "    \n",
    "    g.plot_accuracy(title='train DS %d, test others'%i_d, accuracy=acc)"
   ]
  }
 ],
 "metadata": {
  "kernelspec": {
   "display_name": "Python 3 (ipykernel)",
   "language": "python",
   "name": "python3"
  },
  "language_info": {
   "codemirror_mode": {
    "name": "ipython",
    "version": 3
   },
   "file_extension": ".py",
   "mimetype": "text/x-python",
   "name": "python",
   "nbconvert_exporter": "python",
   "pygments_lexer": "ipython3",
   "version": "3.10.9"
  }
 },
 "nbformat": 4,
 "nbformat_minor": 5
}
